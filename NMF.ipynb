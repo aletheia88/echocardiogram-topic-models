{
 "cells": [
  {
   "cell_type": "code",
   "execution_count": 3,
   "id": "48549772",
   "metadata": {},
   "outputs": [],
   "source": [
    "import numpy as np\n",
    "from sklearn.decomposition import NMF\n",
    "import scipy.io as spio"
   ]
  },
  {
   "cell_type": "code",
   "execution_count": 7,
   "id": "044098c7",
   "metadata": {},
   "outputs": [],
   "source": [
    "# Load matlab data\n",
    "ds_path = \"marmoset_ECoG\"\n",
    "channel_num = 28\n",
    "ECoG_data = spio.loadmat(f'{ds_path}/ECoG_ch{channel_num}.mat', squeeze_me=True)"
   ]
  },
  {
   "cell_type": "code",
   "execution_count": 9,
   "id": "d2f6d7ac",
   "metadata": {},
   "outputs": [
    {
     "data": {
      "text/plain": [
       "array({'__header__': b'MATLAB 5.0 MAT-file, Platform: GLNXA64, Created on: Wed Dec 24 15:17:22 2014', '__version__': '1.0', '__globals__': [], 'ECoGData_ch28': array([  18,   60,  120, ..., -214, -251, -250], dtype=int16)},\n",
       "      dtype=object)"
      ]
     },
     "execution_count": 9,
     "metadata": {},
     "output_type": "execute_result"
    }
   ],
   "source": [
    "ECoG_data"
   ]
  },
  {
   "cell_type": "code",
   "execution_count": null,
   "id": "3ebe0557",
   "metadata": {},
   "outputs": [],
   "source": []
  }
 ],
 "metadata": {
  "kernelspec": {
   "display_name": "Python 3 (ipykernel)",
   "language": "python",
   "name": "python3"
  },
  "language_info": {
   "codemirror_mode": {
    "name": "ipython",
    "version": 3
   },
   "file_extension": ".py",
   "mimetype": "text/x-python",
   "name": "python",
   "nbconvert_exporter": "python",
   "pygments_lexer": "ipython3",
   "version": "3.9.7"
  }
 },
 "nbformat": 4,
 "nbformat_minor": 5
}
